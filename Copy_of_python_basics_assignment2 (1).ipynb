{
  "nbformat": 4,
  "nbformat_minor": 0,
  "metadata": {
    "colab": {
      "provenance": []
    },
    "kernelspec": {
      "name": "python3",
      "display_name": "Python 3"
    },
    "language_info": {
      "name": "python"
    }
  },
  "cells": [
    {
      "cell_type": "markdown",
      "source": [
        "# Python Basics\n",
        "**1.What is Python, and why is it popular ?**\n",
        "- Python is widely use programming language because of the following reasons:\n",
        "-\n",
        "The language is clear ,precise and consise resembling to natural language easy to read and write.\n",
        "- Python can be used for web development (Django, Flask), data science and machine learning (NumPy, Pandas,etc.) artificial intelligence, scientific computing, automation, scripting, game development, desktop applications, and more.\n",
        "-  Python comes with a vast collection of modules and packages that provide pre-built functionalities, reducing development time.\n",
        "- Interpreted Language, allows for rapid prototyping and testing, as code doesn't need to be compiled before execution.\n",
        "\n",
        "**2. What is the interpreter in python?**\n",
        "- An interpreter is a program that directly executes code written in Python. Unlike compiled languages (like C++ or Java), where the entire code is converted into machine code before execution, an interpreter reads and executes the code line by line.\n",
        "\n",
        "**3. What are pre-defined keywords in Python?**\n",
        "\n",
        "- Pre-defined keywords (or reserved words) in Python are special words that have a specific meaning and purpose to the Python interpreter. They are part of the language's syntax and cannot be used as identifiers (like variable names, function names, or class names) by the programmer. Examples are include if, else, while, for, def, class, import, True, False, None, and, or, not, in, is, return, yield, try, except, finally, with, as, lambda, global, nonlocal, pass, break, continue, del, from.\n",
        "**4. Can keywords be used as variable names?**\n",
        "\n",
        "- No, keywords cannot be used as variable names (or any other identifier like function names, class names, etc.) in Python. If you try to use a keyword as a variable name, you will get a SyntaxError.\n",
        "\n",
        "**5. What is mutability in Python?**\n",
        "\n",
        "- Mutability in Python refers to whether an object's state can be changed after it has been created.\n",
        "Mutable objects can be modified after they are created. Their internal state can be altered without creating a new object. Examples include lists, dictionaries, and sets.\n",
        "Immutable objects cannot be changed after they are created. Any operation that appears to modify an immutable object actually creates a new object with the modified value. Examples include numbers (integers, floats), strings, and tuples.\n",
        "\n",
        "**6. Why are lists mutable, but tuples are immutable?**\n",
        "\n",
        "- The difference in mutability between lists and tuples is a fundamental design choice in Python, serving different purposes:\n",
        "-Lists are mutable because they are designed to store collections of items where the order might change, items might be added or removed, or existing items might be modified. They are ideal for dynamic collections.\n",
        "-Tuples are immutable because they are designed for representing fixed collections of items, often heterogeneous (of different types), where the order and contents are not expected to change after creation.\n",
        "\n",
        "7. What is the difference between “==” and “is” operators in Python?\n",
        "\n",
        "- == (Equality operator): This operator checks for value equality. It compares the values of two objects to see if they are the same. If the objects contain the same data, == will return True.\n",
        "- is (Identity operator): This operator checks for object identity. It compares the memory addresses of two objects to see if they are the exact same object in memory. If two variables refer to the exact same object, is will return True.\n",
        "\n",
        "8. What are logical operators in Python?\n",
        "\n",
        "- Logical operators are used to combine conditional statements (Boolean expressions) and evaluate their truthfulness. Python has three logical operators:\n",
        "\n",
        "- and: Returns True if both operands are True. Otherwise, it returns False\n",
        "- or: Returns True if at least one of the operands is True. It returns False only if both operands are False.\n",
        "- not: This is a unary operator (takes one operand). It negates the Boolean value of its operand. If the operand is True, not makes it False, and vice versa\n",
        "\n",
        "9. What is type casting in Python?**\n",
        "\n",
        "- Type casting (also known as type conversion) in Python is the process of converting an object of one data type into another data type. This is often necessary when you need to perform operations that require specific data types or when you want to store data in a different format.\n",
        "\n",
        "- Python provides built-in functions for type casting, such as:\n",
        "int(): Converts to an integer.\n",
        "float(): Converts to a floating-point number.\n",
        "str(): Converts to a string.\n",
        "list(): Converts to a list.\n",
        "tuple(): Converts to a tuple.\n",
        "set(): Converts to a set.\n",
        "10. What is the difference between implicit and explicit type casting?\n",
        "- Implicit Type Casting (Coercion): This occurs automatically by the Python interpreter during an operation without any explicit instruction from the programmer. Python attempts to convert data types to avoid loss of data or to make operations compatible. For example, when an integer and a float are involved in an arithmetic operation, Python implicitly converts the integer to a float to perform the operation.\n",
        "- Explicit Type Casting (Type Conversion): This is performed explicitly by the programmer using type conversion functions (like int(), float(), str(), etc.). The programmer intentionally tells Python to convert an object from one type to another. This is done when you need a specific data type for a particular operation or to handle user input.\n",
        "11. What is the purpose of conditional statements in Python?\n",
        " - The purpose of conditional statements in Python is to control the flow of execution in a program based on whether certain conditions are true or false. They allow your program to make decisions and execute different blocks of code depending on the state of your data or external factors.\n",
        "12. How does the elif statement work?\n",
        "- The elif (short for \"else if\") statement works in conjunction with an if statement (and optionally an else statement) to provide multiple alternative conditions to check.\n",
        "\n",
        "Here's how it works:\n",
        "\n",
        "The if condition is evaluated first. If it's True, its corresponding block of code is executed, and the rest of the elif and else blocks are skipped.\n",
        "\n",
        "If the if condition is False, the program moves to the first elif condition. If that elif condition is True, its block of code is executed, and any subsequent elif or else blocks are skipped.\n",
        "\n",
        "This process continues down the chain of elif statements. As soon as an elif condition evaluates to True, its code block is executed, and no further elif or else conditions are checked.\n",
        "\n",
        "If all if and elif conditions evaluate to False, and an else block is present, the code within the else block is executed. If no else block is present, nothing is executed.\n",
        "\n",
        "13. What is the difference between for and while loops?\n",
        "\n",
        "The main difference between for and while loops lies in their primary use cases and how they control iteration:\n",
        "- for loop iterates over a sequence (known number of iterations) whereas while loop repeats codes based on a condition.\n",
        "- for loop automatically terminates over iterating over all items in a  sequence while loop terminates over when comdition becomes false.\n",
        "- Use a for loop when you know the number of iterations beforehand or when you need to process each item in a collection.\n",
        "-\n",
        "Use a while loop when the number of iterations is unknown and depends on a specific condition being met.\n",
        "\n",
        "14. Describe a scenario where a while loop is more suitable than a for loop.\n",
        "- A while loop is more suitable than a for loop in scenarios where the number of iterations is not known beforehand and the loop needs to continue as long as a certain condition remains true.\n",
        "example of a code:\n",
        "\n",
        "\n",
        "user_input = -1 # Initialize with an invalid value to enter the loop\n",
        "\n",
        "while user_input <= 0:\n",
        "    try:\n",
        "        user_input = int(input(\"Please enter a positive integer: \"))\n",
        "        if user_input <= 0:\n",
        "            print(\"Error: The number must be positive. Please try again.\")\n",
        "    except ValueError:\n",
        "        print(\"Error: Invalid input. Please enter a whole number.\")\n",
        "\n",
        "print(f\"You entered a valid positive integer: {user_input}\")\n"
      ],
      "metadata": {
        "id": "roCjGTj7V2gu"
      }
    },
    {
      "cell_type": "code",
      "source": [
        "# practical questions\n",
        "# 1.Write a Python program to print \"Hello, World!\n",
        "print(\"hello world\")\n",
        "\n",
        "\n"
      ],
      "metadata": {
        "id": "dBTwv5EttkIN",
        "colab": {
          "base_uri": "https://localhost:8080/"
        },
        "outputId": "a2f2af7e-0c0b-4a0e-b200-906047326f90"
      },
      "execution_count": null,
      "outputs": [
        {
          "output_type": "stream",
          "name": "stdout",
          "text": [
            "hello world\n"
          ]
        }
      ]
    },
    {
      "cell_type": "code",
      "source": [
        "#2. Write a Python program that displays your name and age\n",
        "name=input(\"enter your name:\")\n",
        "age=input(\"enter your age:\")\n",
        "print(f\"your name is {name} and your age is {age}\")"
      ],
      "metadata": {
        "colab": {
          "base_uri": "https://localhost:8080/"
        },
        "id": "ywrLnyMtuVt2",
        "outputId": "da9732c4-cd81-4b7e-dc3d-953e5b8ceee4"
      },
      "execution_count": null,
      "outputs": [
        {
          "output_type": "stream",
          "name": "stdout",
          "text": [
            "enter your name:bishal\n",
            "enter your age:28\n",
            "your name is bishal and your age is 28\n"
          ]
        }
      ]
    },
    {
      "cell_type": "code",
      "source": [
        "#3. program to print all keywords\n",
        "import keyword;\n",
        "print(keyword.kwlist)"
      ],
      "metadata": {
        "colab": {
          "base_uri": "https://localhost:8080/"
        },
        "id": "5vqVUK8tumw-",
        "outputId": "a8f16b63-69a9-4eb0-df03-f5375a4757f8"
      },
      "execution_count": null,
      "outputs": [
        {
          "output_type": "stream",
          "name": "stdout",
          "text": [
            "['False', 'None', 'True', 'and', 'as', 'assert', 'async', 'await', 'break', 'class', 'continue', 'def', 'del', 'elif', 'else', 'except', 'finally', 'for', 'from', 'global', 'if', 'import', 'in', 'is', 'lambda', 'nonlocal', 'not', 'or', 'pass', 'raise', 'return', 'try', 'while', 'with', 'yield']\n"
          ]
        }
      ]
    },
    {
      "cell_type": "code",
      "source": [
        "# 4.write a program to check if a word is a keyword\n",
        "import keyword\n",
        "\n",
        "def check_if_keyword(word):\n",
        "    if keyword.iskeyword(word):\n",
        "        print(f\"{word} is a keyword.\")\n",
        "    else:\n",
        "        print(f\"{word} is not a keyword.\")\n",
        "    return keyword.iskeyword(word)"
      ],
      "metadata": {
        "id": "9pyIImJNvF5b"
      },
      "execution_count": null,
      "outputs": []
    },
    {
      "cell_type": "code",
      "source": [
        "# 5.Create a list and tuple in Python, and demonstrate how attempting to change an element works differently\n",
        "my_list=[\"apple\",\"banana\",\"orange\"]\n",
        "my_list[2]=\"pinnaple\"\n",
        "print(my_list)\n",
        " my_tuple=(\"apple\",\"banana\",\"orange\")\n",
        "my_tuple[2]=\"pinnaple\"\n",
        "print(my_tuple)"
      ],
      "metadata": {
        "colab": {
          "base_uri": "https://localhost:8080/",
          "height": 106
        },
        "id": "XfKOfm2nwO5z",
        "outputId": "1227e077-782f-42ef-9b93-17f9679db72d"
      },
      "execution_count": null,
      "outputs": [
        {
          "output_type": "error",
          "ename": "IndentationError",
          "evalue": "unexpected indent (ipython-input-10-1430994505.py, line 5)",
          "traceback": [
            "\u001b[0;36m  File \u001b[0;32m\"/tmp/ipython-input-10-1430994505.py\"\u001b[0;36m, line \u001b[0;32m5\u001b[0m\n\u001b[0;31m    my_tuple=(\"apple\",\"banana\",\"orange\")\u001b[0m\n\u001b[0m    ^\u001b[0m\n\u001b[0;31mIndentationError\u001b[0m\u001b[0;31m:\u001b[0m unexpected indent\n"
          ]
        }
      ]
    },
    {
      "cell_type": "code",
      "source": [
        "#.8. Write a program to demonstrate the use of logical operators.\n",
        "def demonstrate_logical_operators(age, has_license, is_student, has_discount_card):\n",
        "\n",
        "    print(f\"--- Demonstrating Logical Operators ---\")\n",
        "    print(f\"Conditions:\")\n",
        "    print(f\"  Age: {age}\")\n",
        "    print(f\"  Has License: {has_license}\")\n",
        "    print(f\"  Is Student: {is_student}\")\n",
        "    print(f\"  Has Discount Card: {has_discount_card}\")\n",
        "    print(\"-\" * 30)\n",
        "\n",
        "    # --- 'and' operator examples ---\n",
        "    print(\"\\n--- 'and' Operator ---\")\n",
        "    # Scenario 1: Eligible to drive (age >= 18 AND has_license)\n",
        "    can_drive = (age >= 18) and has_license\n",
        "    print(f\"Can drive (age >= 18 and has_license): {can_drive}\")\n",
        "\n",
        "    # Scenario 2: Eligible for senior discount (age >= 65 AND has_discount_card)\n",
        "    senior_discount = (age >= 65) and has_discount_card\n",
        "    print(f\"Eligible for senior discount (age >= 65 and has_discount_card): {senior_discount}\")\n",
        "\n",
        "    # --- 'or' operator examples ---\n",
        "    print(\"\\n--- 'or' Operator ---\")\n",
        "    # Scenario 3: Eligible for student or senior pricing (is_student OR age >= 60)\n",
        "    special_pricing = is_student or (age >= 60)\n",
        "    print(f\"Eligible for special pricing (is_student or age >= 60): {special_pricing}\")\n",
        "\n",
        "    # --- 'not' operator examples ---\n",
        "    print(\"\\n--- 'not' Operator ---\")\n",
        "    # Scenario 6: Does not have a license (NOT has_license)\n",
        "    no_license = not has_license\n",
        "    print(f\"Does not have a license (not has_license): {no_license}\")\n",
        "\n",
        "    # Scenario 8: Free entry (is_student OR age < 5 OR age > 70)\n",
        "    free_entry = is_student or (age < 5) or (age > 70)\n",
        "    print(f\"Free entry (is_student or age < 5 or age > 70): {free_entry}\")\n",
        "\n",
        "    print(\"\\n--- End of Demonstration ---\")\n",
        "\n",
        "# --- Example Usage ---\n",
        "\n",
        "print(\"--- Test Case 1: Young Adult with License ---\")\n",
        "demonstrate_logical_operators(age=25, has_license=True, is_student=False, has_discount_card=False)\n",
        "\n",
        "print(\"\\n\" + \"=\"*50 + \"\\n\")\n",
        "\n",
        "print(\"--- Test Case 2: Teenager, Student, No License ---\")\n",
        "demonstrate_logical_operators(age=16, has_license=False, is_student=True, has_discount_card=False)\n",
        "\n",
        "print(\"\\n\" + \"=\"*50 + \"\\n\")\n",
        "\n",
        "print(\"--- Test Case 3: Senior with Discount Card ---\")\n",
        "demonstrate_logical_operators(age=70, has_license=True, is_student=False, has_discount_card=True)\n",
        "\n",
        "print(\"\\n\" + \"=\"*50 + \"\\n\")\n",
        "\n",
        "print(\"--- Test Case 4: Child ---\")\n",
        "demonstrate_logical_operators(age=3, has_license=False, is_student=False, has_discount_card=False)\n"
      ],
      "metadata": {
        "id": "KMjz6iRUw-lp",
        "colab": {
          "base_uri": "https://localhost:8080/"
        },
        "outputId": "ccf058ce-b86b-4799-c3af-ddee6d179adc"
      },
      "execution_count": null,
      "outputs": [
        {
          "output_type": "stream",
          "name": "stdout",
          "text": [
            "--- Test Case 1: Young Adult with License ---\n",
            "--- Demonstrating Logical Operators ---\n",
            "Conditions:\n",
            "  Age: 25\n",
            "  Has License: True\n",
            "  Is Student: False\n",
            "  Has Discount Card: False\n",
            "------------------------------\n",
            "\n",
            "--- 'and' Operator ---\n",
            "Can drive (age >= 18 and has_license): True\n",
            "Eligible for senior discount (age >= 65 and has_discount_card): False\n",
            "\n",
            "--- 'or' Operator ---\n",
            "Eligible for special pricing (is_student or age >= 60): False\n",
            "\n",
            "--- 'not' Operator ---\n",
            "Does not have a license (not has_license): False\n",
            "Free entry (is_student or age < 5 or age > 70): False\n",
            "\n",
            "--- End of Demonstration ---\n",
            "\n",
            "==================================================\n",
            "\n",
            "--- Test Case 2: Teenager, Student, No License ---\n",
            "--- Demonstrating Logical Operators ---\n",
            "Conditions:\n",
            "  Age: 16\n",
            "  Has License: False\n",
            "  Is Student: True\n",
            "  Has Discount Card: False\n",
            "------------------------------\n",
            "\n",
            "--- 'and' Operator ---\n",
            "Can drive (age >= 18 and has_license): False\n",
            "Eligible for senior discount (age >= 65 and has_discount_card): False\n",
            "\n",
            "--- 'or' Operator ---\n",
            "Eligible for special pricing (is_student or age >= 60): True\n",
            "\n",
            "--- 'not' Operator ---\n",
            "Does not have a license (not has_license): True\n",
            "Free entry (is_student or age < 5 or age > 70): True\n",
            "\n",
            "--- End of Demonstration ---\n",
            "\n",
            "==================================================\n",
            "\n",
            "--- Test Case 3: Senior with Discount Card ---\n",
            "--- Demonstrating Logical Operators ---\n",
            "Conditions:\n",
            "  Age: 70\n",
            "  Has License: True\n",
            "  Is Student: False\n",
            "  Has Discount Card: True\n",
            "------------------------------\n",
            "\n",
            "--- 'and' Operator ---\n",
            "Can drive (age >= 18 and has_license): True\n",
            "Eligible for senior discount (age >= 65 and has_discount_card): True\n",
            "\n",
            "--- 'or' Operator ---\n",
            "Eligible for special pricing (is_student or age >= 60): True\n",
            "\n",
            "--- 'not' Operator ---\n",
            "Does not have a license (not has_license): False\n",
            "Free entry (is_student or age < 5 or age > 70): False\n",
            "\n",
            "--- End of Demonstration ---\n",
            "\n",
            "==================================================\n",
            "\n",
            "--- Test Case 4: Child ---\n",
            "--- Demonstrating Logical Operators ---\n",
            "Conditions:\n",
            "  Age: 3\n",
            "  Has License: False\n",
            "  Is Student: False\n",
            "  Has Discount Card: False\n",
            "------------------------------\n",
            "\n",
            "--- 'and' Operator ---\n",
            "Can drive (age >= 18 and has_license): False\n",
            "Eligible for senior discount (age >= 65 and has_discount_card): False\n",
            "\n",
            "--- 'or' Operator ---\n",
            "Eligible for special pricing (is_student or age >= 60): False\n",
            "\n",
            "--- 'not' Operator ---\n",
            "Does not have a license (not has_license): True\n",
            "Free entry (is_student or age < 5 or age > 70): True\n",
            "\n",
            "--- End of Demonstration ---\n"
          ]
        }
      ]
    },
    {
      "cell_type": "code",
      "source": [
        "#9.Write a Python program to convert user input from string to integer, float, and boolean types.\n",
        "# Get input from the user\n",
        "user_input = input(\"Enter a value: \")\n",
        "\n",
        "# Convert to integer\n",
        "int_value = int(user_input)\n",
        "\n",
        "# Convert to float\n",
        "float_value = float(user_input)\n",
        "\n",
        "# Convert to boolean\n",
        "bool_value = bool(user_input)\n",
        "\n",
        "# Display the results\n",
        "print(\"Integer:\", int_value)\n",
        "print(\"Float:\", float_value)\n",
        "print(\"Boolean:\", bool_value)\n",
        "\n",
        "\n",
        "# Run the function\n",
        "convert_input()\n"
      ],
      "metadata": {
        "colab": {
          "base_uri": "https://localhost:8080/",
          "height": 245
        },
        "id": "WztOjcGvzlyX",
        "outputId": "1690b34e-1cc8-43da-f394-688b81cd3d59"
      },
      "execution_count": null,
      "outputs": [
        {
          "output_type": "stream",
          "name": "stdout",
          "text": [
            "Enter a value: 23\n",
            "Integer: 23\n",
            "Float: 23.0\n",
            "Boolean: True\n"
          ]
        },
        {
          "output_type": "error",
          "ename": "NameError",
          "evalue": "name 'convert_input' is not defined",
          "traceback": [
            "\u001b[0;31m---------------------------------------------------------------------------\u001b[0m",
            "\u001b[0;31mNameError\u001b[0m                                 Traceback (most recent call last)",
            "\u001b[0;32m/tmp/ipython-input-10-2888040708.py\u001b[0m in \u001b[0;36m<cell line: 0>\u001b[0;34m()\u001b[0m\n\u001b[1;32m     19\u001b[0m \u001b[0;34m\u001b[0m\u001b[0m\n\u001b[1;32m     20\u001b[0m \u001b[0;31m# Run the function\u001b[0m\u001b[0;34m\u001b[0m\u001b[0;34m\u001b[0m\u001b[0m\n\u001b[0;32m---> 21\u001b[0;31m \u001b[0mconvert_input\u001b[0m\u001b[0;34m(\u001b[0m\u001b[0;34m)\u001b[0m\u001b[0;34m\u001b[0m\u001b[0;34m\u001b[0m\u001b[0m\n\u001b[0m",
            "\u001b[0;31mNameError\u001b[0m: name 'convert_input' is not defined"
          ]
        }
      ]
    },
    {
      "cell_type": "code",
      "source": [
        "#10.code to demonstrate type casting with list elements.\n",
        "# Original list with string numbers\n",
        "str_numbers = [\"1\", \"2\", \"3\"]\n",
        "print(f\"Original: {str_numbers}, Types: {[type(x).__name__ for x in str_numbers]}\")\n",
        "\n",
        "# Cast to integers using list comprehension\n",
        "int_numbers = [int(x) for x in str_numbers]\n",
        "print(f\"To Int: {int_numbers}, Types: {[type(x).__name__ for x in int_numbers]}\")\n",
        "\n",
        "# Original list with mixed numbers\n",
        "mixed_numbers = [10, 20.5, 30]\n",
        "print(f\"Original: {mixed_numbers}, Types: {[type(x).__name__ for x in mixed_numbers]}\")\n",
        "\n",
        "# Cast to strings using list comprehension\n",
        "str_converted = [str(x) for x in mixed_numbers]\n",
        "print(f\"To Str: {str_converted}, Types: {[type(x).__name__ for x in str_converted]}\")\n"
      ],
      "metadata": {
        "id": "83yWMxwX15b0",
        "colab": {
          "base_uri": "https://localhost:8080/"
        },
        "outputId": "2a5340bb-50c3-4c08-8fdf-2aa1cb42eba5"
      },
      "execution_count": null,
      "outputs": [
        {
          "output_type": "stream",
          "name": "stdout",
          "text": [
            "Original: ['1', '2', '3'], Types: ['str', 'str', 'str']\n",
            "To Int: [1, 2, 3], Types: ['int', 'int', 'int']\n",
            "Original: [10, 20.5, 30], Types: ['int', 'float', 'int']\n",
            "To Str: ['10', '20.5', '30'], Types: ['str', 'str', 'str']\n"
          ]
        }
      ]
    },
    {
      "cell_type": "code",
      "source": [
        "#11. This program checks if a number is positive, negative, or zero.\n",
        "# It directly executes the logic without defining a function.\n",
        "\n",
        "print(\"--- Check Number Sign ---\")\n",
        "print(\"This program will tell you if a number is positive, negative, or zero.\")\n",
        "\n",
        "num = None # Initialize num to None to control the input loop\n",
        "\n",
        "# Loop until a valid number is entered\n",
        "while num is None:\n",
        "    user_input = input(\"Please enter a number: \")\n",
        "    try:\n",
        "        num = float(user_input) # Convert input to float to handle decimals\n",
        "    except ValueError:\n",
        "        print(f\"'{user_input}' is not a valid number. Please enter a numeric value.\")\n",
        "\n",
        "# Check the sign of the number using if-elif-else\n",
        "if num > 0:\n",
        "    print(f\"The number {num} is POSITIVE.\")\n",
        "elif num < 0:\n",
        "    print(f\"The number {num} is NEGATIVE.\")\n",
        "else: # This 'else' block executes if num is neither > 0 nor < 0, meaning it's 0\n",
        "    print(f\"The number {num} is ZERO.\")\n",
        "\n",
        "print(\"\\n--- Program Complete ---\")\n"
      ],
      "metadata": {
        "id": "kSWHxUgc16ke",
        "colab": {
          "base_uri": "https://localhost:8080/"
        },
        "outputId": "df2c3ba5-21d2-4b31-967a-26242f14159a"
      },
      "execution_count": null,
      "outputs": [
        {
          "output_type": "stream",
          "name": "stdout",
          "text": [
            "--- Check Number Sign ---\n",
            "This program will tell you if a number is positive, negative, or zero.\n",
            "Please enter a number: -9\n",
            "The number -9.0 is NEGATIVE.\n",
            "\n",
            "--- Program Complete ---\n"
          ]
        }
      ]
    },
    {
      "cell_type": "code",
      "source": [
        "#12.loop to print number from 1 to 10\n",
        "num=1\n",
        "for i in range(10):\n",
        "  i+=1\n",
        "  print(i)"
      ],
      "metadata": {
        "id": "gJ13P28W2rHn",
        "colab": {
          "base_uri": "https://localhost:8080/"
        },
        "outputId": "ffb1db30-3122-4dd5-f33d-9e9a2d4145ba"
      },
      "execution_count": null,
      "outputs": [
        {
          "output_type": "stream",
          "name": "stdout",
          "text": [
            "1\n",
            "2\n",
            "3\n",
            "4\n",
            "5\n",
            "6\n",
            "7\n",
            "8\n",
            "9\n",
            "10\n"
          ]
        }
      ]
    },
    {
      "cell_type": "code",
      "source": [
        "# 13 Write a Python program to find the sum of all even numbers between 1 and 50.\n",
        "total = 0\n",
        "\n",
        "# Loop through numbers 1 to 50\n",
        "for num in range(1, 51):\n",
        "    if num % 2 == 0:\n",
        "        total += num\n",
        "\n",
        "# Print the result\n",
        "print(\"Sum of even numbers from 1 to 50 is:\", total)\n"
      ],
      "metadata": {
        "id": "7h1EQmkX3iYS",
        "colab": {
          "base_uri": "https://localhost:8080/"
        },
        "outputId": "675f9ddc-ffa2-4123-b45a-15239984a032"
      },
      "execution_count": null,
      "outputs": [
        {
          "output_type": "stream",
          "name": "stdout",
          "text": [
            "Sum of even numbers from 1 to 50 is: 650\n"
          ]
        }
      ]
    },
    {
      "cell_type": "code",
      "source": [
        "#14. Input string\n",
        "original = \"Hello, World!\"\n",
        "reversed_str = \"\"\n",
        "\n",
        "# Get the index of the last character\n",
        "index = len(original) - 1\n",
        "\n",
        "# Loop backwards using while loop\n",
        "while index >= 0:\n",
        "    reversed_str += original[index]\n",
        "    index -= 1\n",
        "\n",
        "# Print the reversed string\n",
        "print(\"Reversed string:\", reversed_str)\n"
      ],
      "metadata": {
        "id": "oGb5Z9jH39n1",
        "colab": {
          "base_uri": "https://localhost:8080/"
        },
        "outputId": "7771ae4e-38f1-4feb-f77d-cad16fb1f20b"
      },
      "execution_count": null,
      "outputs": [
        {
          "output_type": "stream",
          "name": "stdout",
          "text": [
            "Reversed string: !dlroW ,olleH\n"
          ]
        }
      ]
    },
    {
      "cell_type": "code",
      "source": [
        "#15.factorial of a number using while loop\n",
        "num = int(input(\"Enter a number: \"))\n",
        "factorial = 1\n",
        "i = 1\n",
        "while i <= num:\n",
        "    factorial *= i\n",
        "    i += 1\n",
        "print(f\"Factorial of {num} is: {factorial}\")\n"
      ],
      "metadata": {
        "id": "3wUYUC9h5zja",
        "colab": {
          "base_uri": "https://localhost:8080/"
        },
        "outputId": "91e94bf8-17d1-4a0e-9452-1b0492231d3c"
      },
      "execution_count": null,
      "outputs": [
        {
          "output_type": "stream",
          "name": "stdout",
          "text": [
            "Enter a number: 5\n",
            "Factorial of 5 is: 120\n"
          ]
        }
      ]
    }
  ]
}